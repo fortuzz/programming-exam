{
  "nbformat": 4,
  "nbformat_minor": 0,
  "metadata": {
    "colab": {
      "provenance": []
    },
    "kernelspec": {
      "name": "python3",
      "display_name": "Python 3"
    },
    "language_info": {
      "name": "python"
    }
  },
  "cells": [
    {
      "cell_type": "code",
      "execution_count": null,
      "metadata": {
        "id": "LjIS_0h1GQeU"
      },
      "outputs": [],
      "source": []
    },
    {
      "cell_type": "code",
      "execution_count": null,
      "metadata": {
        "colab": {
          "base_uri": "https://localhost:8080/"
        },
        "id": "vJKqeVo13tTU",
        "outputId": "f4e3fc13-0e97-4059-803d-c6f8705e1a14"
      },
      "outputs": [
        {
          "output_type": "stream",
          "name": "stdout",
          "text": [
            "Tom, enter your preferred shift number (1-2): 2\n",
            "Dave, enter your preferred shift number (1-1): 1\n",
            "{'Afternoon': 'Tom', 'Morning': 'Dave'}\n"
          ]
        }
      ],
      "source": [
        "def assign_shifts_to_volunteers(volunteers: list, shifts: list) -> dict:\n",
        "    \"\"\"\n",
        "    Assigns volunteers to available shifts based on their preferences.\n",
        "\n",
        "    Args:\n",
        "        volunteers (list): List of volunteers' names.\n",
        "        shifts (list): List of available shifts.\n",
        "\n",
        "    Returns:\n",
        "        dict: Dictionary mapping shifts to volunteers.\n",
        "\n",
        "    Example:\n",
        "       >>> assign_shifts_to_volunteers([\"Tom\", \"Dave\"], [\"Morning\", \"Afternoon\"])\n",
        "       {'Morning':'Tom', 'Afternoon':'Dave'}\n",
        "    \"\"\"\n",
        "\n",
        "    # Initialize an empty dictionary for assignments\n",
        "    shift_assignments = {}\n",
        "\n",
        "    for volunteer in volunteers: # Loop through the volunteers\n",
        "        # Prompt the volunteer for their preferred shift number\n",
        "        while True:\n",
        "\n",
        "          try:\n",
        "              preference_num = int(input(f\"{volunteer}, enter your preferred shift number (1-{len(shifts)}): \"))\n",
        "              if 1 <= preference_num <= len(shifts):\n",
        "                 break\n",
        "              else:\n",
        "                print(\"Invalid input. Please enter a number within the range.\")\n",
        "          except ValueError:\n",
        "              print(f\"Invalid input.Please enter a number\")\n",
        "\n",
        "        #Convert to 0 based index\n",
        "        preference_num-= 1\n",
        "\n",
        "        # Assign the preffered shift to the volunteer and remove it from list of available shifts\n",
        "        shift_assignments[shifts.pop(preference_num)] = volunteer\n",
        "\n",
        "    return shift_assignments\n",
        "\n",
        "\n",
        "if __name__ == \"__main__\":\n",
        "    # List of volunteers\n",
        "    volunteers = [\"Tom\", \"Dave\"]\n",
        "    # List of available shifts\n",
        "    shifts = [\"Morning\", \"Afternoon\"]\n",
        "\n",
        "    # Call the asign_shifts_to_volunteers function\n",
        "    shift_assignments = assign_shifts_to_volunteers(volunteers, shifts)\n",
        "\n",
        "    # Print the results\n",
        "    print(shift_assignments)\n"
      ]
    },
    {
      "cell_type": "markdown",
      "source": [
        "Automated Cafe\n"
      ],
      "metadata": {
        "id": "kyzRZA466QDT"
      }
    },
    {
      "cell_type": "code",
      "source": [
        "def automated_cafe():\n",
        "  \"\"\"\n",
        "  Automates a cafe's order system using conditionals to handle menu choices and costs.\n",
        "\n",
        "  Example:\n",
        "      >>> automated cafe()\n",
        "      Choose a hypothetical name for the cafe: Patel's Cafe and Pastry\n",
        "      Welcome to Patel's Cafe and Pastry\n",
        "      What would you like to order (Tea/coffee/milkshakes/pastry)?: coffee and pastry\n",
        "      That would be $25 sir/madam. Thank you!\n",
        "\n",
        "  \"\"\"\n",
        "  print(\"Welcome to Patel's coffe and pastry!\")\n",
        "\n",
        "  # initialize the menu\n",
        "  menu = {\"coffee\":2, \"Pastry\": 6}\n",
        "\n",
        "  # prompts the user for their order\n",
        "  order = input(\"What would you like to order? (Tea/coffee/milkshakes/pastry)?: \")\n",
        "\n",
        "  #checks if order is in the menu\n",
        "  if input in menu:\n",
        "    #calculate cost of the order\n",
        "    cost=menu[order]\n",
        "    print(f\"that would be ${cost}. thank you!\")\n",
        "  else:\n",
        "    print(\"Sorry we don't have that item.\")\n",
        "\n",
        "\n",
        "if __name__ == \"__main__\":\n",
        "    automated_cafe()\n"
      ],
      "metadata": {
        "colab": {
          "base_uri": "https://localhost:8080/"
        },
        "id": "l4sRjT7y6UVw",
        "outputId": "785b2f62-6121-4bfd-84f1-01a89e4c9629"
      },
      "execution_count": null,
      "outputs": [
        {
          "output_type": "stream",
          "name": "stdout",
          "text": [
            "Welcome to Patel's coffe and pastry!\n",
            "What would you like to order? (Tea/coffee/milkshakes/pastry)?: coffee\n",
            "Sorry we don't have that item.\n"
          ]
        }
      ]
    }
  ]
}