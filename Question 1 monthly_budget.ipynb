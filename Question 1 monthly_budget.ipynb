{
  "nbformat": 4,
  "nbformat_minor": 0,
  "metadata": {
    "colab": {
      "provenance": []
    },
    "kernelspec": {
      "name": "python3",
      "display_name": "Python 3"
    },
    "language_info": {
      "name": "python"
    }
  },
  "cells": [
    {
      "cell_type": "markdown",
      "source": [
        "Budget Application"
      ],
      "metadata": {
        "id": "aFC9Ds5IuqVS"
      }
    },
    {
      "cell_type": "code",
      "source": [
        "# Input and convert the string inputs to floats\n",
        "monthly_income = float(input(\"Input your Monthly income: \"))\n",
        "rent = float(input(\"Input rent: \"))\n",
        "groceries = float(input(\"Input groceries: \"))\n",
        "utilities = float(input(\"Input utilities: \"))\n",
        "entertainment = float(input(\"Input entertainment: \"))\n",
        "petty_cash = float(input(\"Input petty_cash: \"))\n",
        "\n",
        "# Total expenses and savings\n",
        "\n",
        "print(\"Your Monthly Income: \" , monthly_income , \"$\")\n",
        "if monthly_income < 0:\n",
        "    print(\" ->NOTE: your monthly income cannot be less than 0!<-\")\n",
        "\n",
        "print(\"Your Rent : \", rent, \"$\")\n",
        "print(\"Your groceries : \", groceries, \"$\")\n",
        "print(\"Your Utilities : \" , utilities , \"$\")\n",
        "print(\" Your Entertainment Costs: \" , entertainment , \"$\")\n",
        "print(\"Your Petty Cash: \" , petty_cash , \"$\")\n",
        "\n",
        "total_expenses = rent + groceries + utilities + entertainment + petty_cash\n",
        "savings = monthly_income - total_expenses\n",
        "\n",
        "print(\"Your Total Expenses: \" , total_expenses ,)\n",
        "print(\"Your Remaining_balance = \" , savings ,)\n",
        "\n",
        "if monthly_income < total_expenses:\n",
        "        print(\"Your income is less than your expenses.\")\n",
        "if monthly_income < 0:\n",
        "          print(\" ->NOTE: your monthly income cannot be less than 0!<-\")\n",
        "if total_expenses > monthly_income:\n",
        "          print(\"Your expenses have exceeded your income.\")"
      ],
      "metadata": {
        "colab": {
          "base_uri": "https://localhost:8080/"
        },
        "id": "JpA9j-e7fs0d",
        "outputId": "632d4920-ed17-4584-e75b-987e9654c259"
      },
      "execution_count": null,
      "outputs": [
        {
          "output_type": "stream",
          "name": "stdout",
          "text": [
            "Input your Monthly income: 5000\n",
            "Input rent: 1000\n",
            "Input groceries: 500\n",
            "Input utilities: 500\n",
            "Input entertainment: 250\n",
            "Input petty_cash: 100\n",
            "Your Monthly Income:  5000.0 $\n",
            "Your Rent :  1000.0 $\n",
            "Your groceries :  500.0 $\n",
            "Your Utilities :  500.0 $\n",
            " Your Entertainment Costs:  250.0 $\n",
            "Your Petty Cash:  100.0 $\n",
            "Your Total Expenses:  2350.0\n",
            "Your Remaining_balance =  2650.0\n"
          ]
        }
      ]
    }
  ]
}