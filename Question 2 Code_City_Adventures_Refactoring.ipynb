{
  "nbformat": 4,
  "nbformat_minor": 0,
  "metadata": {
    "colab": {
      "provenance": []
    },
    "kernelspec": {
      "name": "python3",
      "display_name": "Python 3"
    },
    "language_info": {
      "name": "python"
    }
  },
  "cells": [
    {
      "cell_type": "code",
      "source": [
        "\n",
        "  def assign_shifts_to_volunteers(volunteers: list, shifts: list) -> dict:\n",
        "    \"\"\"\n",
        "    Assigns volunteers to available shifts based on their preferences.\n",
        "\n",
        "    Args:\n",
        "        volunteers (list): List of volunteers' names.\n",
        "        shifts (list): List of available shifts.\n",
        "\n",
        "    Returns:\n",
        "        dict: Dictionary mapping shifts to volunteers.\n",
        "\n",
        "    Example:\n",
        "       >>> assign_shifts_to_volunteers([\"Tom\", \"Dave\"], [\"Morning\", \"Afternoon\"])\n",
        "       {'Morning':'Tom', 'Afternoon':'Dave'}\n",
        "    \"\"\"\n",
        "\n",
        "    # Initialize an empty dictionary for assignments\n",
        "    shift_assignments = {}\n",
        "\n",
        "    for volunteer in volunteers: # Loop through the volunteers\n",
        "        # Prompt the volunteer for their preferred shift number\n",
        "        while True:\n",
        "\n",
        "          try:\n",
        "              preference_num = int(input(f\"{volunteer}, enter your preferred shift number (1-{len(shifts)}): \"))\n",
        "              if 1 <= preference_num <= len(shifts):\n",
        "                 break\n",
        "              else:\n",
        "                print(\"Invalid input. Please enter a number within the range.\")\n",
        "          except ValueError:\n",
        "              print(f\"Invalid input.Please enter a number\")\n",
        "\n",
        "        #Convert to 0 based index\n",
        "        preference_num-= 1\n",
        "\n",
        "        # Assign the preffered shift to the volunteer and remove it from list of available shifts\n",
        "        shift_assignments[shifts.pop(preference_num)] = volunteer\n",
        "\n",
        "    return shift_assignments\n",
        "\n",
        "\n",
        "if __name__ == \"__main__\":\n",
        "    # List of volunteers\n",
        "    volunteers = [\"Tom\", \"Dave\"]\n",
        "    # List of available shifts\n",
        "    shifts = [\"Morning\", \"Afternoon\"]\n",
        "\n",
        "    # Call the asign_shifts_to_volunteers function\n",
        "    shift_assignments = assign_shifts_to_volunteers(volunteers, shifts)\n",
        "\n",
        "    # Print the results\n",
        "    print(shift_assignments)\n",
        "\n"
      ],
      "metadata": {
        "id": "l2OqIGG2LnYP",
        "colab": {
          "base_uri": "https://localhost:8080/"
        },
        "outputId": "ef800449-7780-4531-94c4-15f1506de6e7"
      },
      "execution_count": 2,
      "outputs": [
        {
          "output_type": "stream",
          "name": "stdout",
          "text": [
            "Tom, enter your preferred shift number (1-2): 2\n",
            "Dave, enter your preferred shift number (1-1): 1\n",
            "{'Afternoon': 'Tom', 'Morning': 'Dave'}\n"
          ]
        }
      ]
    }
  ]
}